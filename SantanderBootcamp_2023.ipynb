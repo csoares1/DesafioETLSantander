{
  "cells": [
    {
      "cell_type": "markdown",
      "metadata": {
        "id": "view-in-github",
        "colab_type": "text"
      },
      "source": [
        "<a href=\"https://colab.research.google.com/github/csoares1/DesafioETLSantander/blob/main/SantanderBootcamp_2023.ipynb\" target=\"_parent\"><img src=\"https://colab.research.google.com/assets/colab-badge.svg\" alt=\"Open In Colab\"/></a>"
      ]
    },
    {
      "cell_type": "markdown",
      "source": [
        "# **Extrair**\n",
        "\n",
        "Extrair id de usuários"
      ],
      "metadata": {
        "id": "xh_f8Unmltgs"
      }
    },
    {
      "cell_type": "code",
      "source": [
        "url_api = \"https://sdw-2023-prd.up.railway.app/\""
      ],
      "metadata": {
        "id": "TeYfSualUTWp"
      },
      "execution_count": 14,
      "outputs": []
    },
    {
      "cell_type": "code",
      "source": [
        "import pandas as pd\n",
        "df = pd.read_csv('SDW2023.csv')\n",
        "user_ids = df['UserID'].tolist()\n",
        "print(user_ids)"
      ],
      "metadata": {
        "id": "AuBRcP3cl5m-",
        "outputId": "84573b98-c3ce-43e4-cbf2-759677f47dbf",
        "colab": {
          "base_uri": "https://localhost:8080/"
        }
      },
      "execution_count": 15,
      "outputs": [
        {
          "output_type": "stream",
          "name": "stdout",
          "text": [
            "[2298, 2321, 2322]\n"
          ]
        }
      ]
    },
    {
      "cell_type": "code",
      "source": [
        "# @title\n",
        "from numpy.core.numeric import identity\n",
        "import requests\n",
        "import json\n",
        "\n",
        "def getusers(id):\n",
        "    response = requests.get(f'{url_api}users/{id}')\n",
        "    return response.json() if response.status_code == 200 else None\n",
        "\n",
        "users = [user for id in user_ids if (user := getusers(id)) is not None]\n",
        "\n",
        "print(json.dumps(users, indent=2))"
      ],
      "metadata": {
        "id": "rIi7D1uHoPGP",
        "colab": {
          "base_uri": "https://localhost:8080/"
        },
        "outputId": "5cb3c110-912c-4aad-fde5-4bac10a05b1d"
      },
      "execution_count": 16,
      "outputs": [
        {
          "output_type": "stream",
          "name": "stdout",
          "text": [
            "[\n",
            "  {\n",
            "    \"id\": 2298,\n",
            "    \"name\": \"Antonio Fernandes Coentro de Lourds\",\n",
            "    \"account\": {\n",
            "      \"id\": 2412,\n",
            "      \"number\": \"0191-2\",\n",
            "      \"agency\": \"0157\",\n",
            "      \"balance\": 0.0,\n",
            "      \"limit\": 600.0\n",
            "    },\n",
            "    \"card\": {\n",
            "      \"id\": 2226,\n",
            "      \"number\": \"**** **** **** 4040\",\n",
            "      \"limit\": 1000.0\n",
            "    },\n",
            "    \"features\": [],\n",
            "    \"news\": [\n",
            "      {\n",
            "        \"id\": 5457,\n",
            "        \"icon\": \"https://digitalinnovationone.github.io/santander-dev-week-2023-api/icons/credit.svg\",\n",
            "        \"description\": \"Antonio Fernandes Coentro de Lourds N\\u00e3o perca oportunidade de investir em voc\\u00ea\"\n",
            "      }\n",
            "    ]\n",
            "  },\n",
            "  {\n",
            "    \"id\": 2321,\n",
            "    \"name\": \"Arthur Coentro de Lourds\",\n",
            "    \"account\": {\n",
            "      \"id\": 2450,\n",
            "      \"number\": \"0191-3\",\n",
            "      \"agency\": \"0158\",\n",
            "      \"balance\": 0.0,\n",
            "      \"limit\": 600.0\n",
            "    },\n",
            "    \"card\": {\n",
            "      \"id\": 2252,\n",
            "      \"number\": \"**** **** **** 4041\",\n",
            "      \"limit\": 1000.0\n",
            "    },\n",
            "    \"features\": [],\n",
            "    \"news\": [\n",
            "      {\n",
            "        \"id\": 5458,\n",
            "        \"icon\": \"https://digitalinnovationone.github.io/santander-dev-week-2023-api/icons/credit.svg\",\n",
            "        \"description\": \"Arthur Coentro de Lourds N\\u00e3o perca oportunidade de investir em voc\\u00ea\"\n",
            "      }\n",
            "    ]\n",
            "  },\n",
            "  {\n",
            "    \"id\": 2322,\n",
            "    \"name\": \"Laura Coentro de Lourds\",\n",
            "    \"account\": {\n",
            "      \"id\": 2451,\n",
            "      \"number\": \"0191-4\",\n",
            "      \"agency\": \"0159\",\n",
            "      \"balance\": 0.0,\n",
            "      \"limit\": 600.0\n",
            "    },\n",
            "    \"card\": {\n",
            "      \"id\": 2253,\n",
            "      \"number\": \"**** **** **** 4042\",\n",
            "      \"limit\": 1000.0\n",
            "    },\n",
            "    \"features\": [],\n",
            "    \"news\": [\n",
            "      {\n",
            "        \"id\": 5459,\n",
            "        \"icon\": \"https://digitalinnovationone.github.io/santander-dev-week-2023-api/icons/credit.svg\",\n",
            "        \"description\": \"Laura Coentro de Lourds invista para multiplicar suas economias e conquistar seguran\\u00e7a financeira\"\n",
            "      }\n",
            "    ]\n",
            "  }\n",
            "]\n"
          ]
        }
      ]
    },
    {
      "cell_type": "markdown",
      "source": [
        "# **Transformação**\n",
        "\n",
        "Utilizar API do openAI GPT-4 para gerar uma mensagem de mkt pesonalizada"
      ],
      "metadata": {
        "id": "ER6GB_zFuWja"
      }
    },
    {
      "cell_type": "code",
      "source": [
        "import random\n",
        "\n",
        "def generate_ai_news(user):\n",
        "    lista = ['invista para multiplicar suas economias e conquistar segurança financeira', 'O Santander tem investimentos na medida para você', 'Não perca oportunidade de investir em você','Contamos com você']\n",
        "    mensagem = random.choice(lista)\n",
        "    return f\"{user['name']} {mensagem}\"\n",
        "\n",
        "\n",
        "for user in users:\n",
        "    news = generate_ai_news(user)\n",
        "    print(news)\n",
        "    user['news'].append({\n",
        "           \"icon\": \"https://digitalinnovationone.github.io/santander-dev-week-2023-api/icons/credit.svg\",\n",
        "           \"description\": news\n",
        "     })\n",
        "\n",
        "\n"
      ],
      "metadata": {
        "colab": {
          "base_uri": "https://localhost:8080/"
        },
        "id": "FBfjfz0h2r8Q",
        "outputId": "95ecd5c2-d79a-4e21-b85e-eee7c493571a"
      },
      "execution_count": 17,
      "outputs": [
        {
          "output_type": "stream",
          "name": "stdout",
          "text": [
            "Antonio Fernandes Coentro de Lourds invista para multiplicar suas economias e conquistar segurança financeira\n",
            "Arthur Coentro de Lourds invista para multiplicar suas economias e conquistar segurança financeira\n",
            "Laura Coentro de Lourds O Santander tem investimentos na medida para você\n"
          ]
        }
      ]
    },
    {
      "cell_type": "markdown",
      "source": [
        "**Carga de Dados**\n",
        "Atualizar lista de news de cada usuário  na API com nova mensagem gerada"
      ],
      "metadata": {
        "id": "-wrLFsAuMBKt"
      }
    },
    {
      "cell_type": "code",
      "source": [
        "def update_use(user):\n",
        "  response = requests.put(f\"{url_api}users/{user['id']}\", json = user)\n",
        "  return True if response.status_code == 200 else False\n",
        "\n",
        "for user in users:\n",
        "   success = update_use(user)\n",
        "   print(f\"User {user['name']} update? {success}!\")\n"
      ],
      "metadata": {
        "colab": {
          "base_uri": "https://localhost:8080/"
        },
        "id": "CsPCTmuiMbHm",
        "outputId": "48c7628a-42da-4aa9-8f77-74e696197a29"
      },
      "execution_count": 18,
      "outputs": [
        {
          "output_type": "stream",
          "name": "stdout",
          "text": [
            "User Antonio Fernandes Coentro de Lourds update? True!\n",
            "User Arthur Coentro de Lourds update? True!\n",
            "User Laura Coentro de Lourds update? True!\n"
          ]
        }
      ]
    }
  ],
  "metadata": {
    "colab": {
      "provenance": [],
      "include_colab_link": true
    },
    "kernelspec": {
      "display_name": "Python 3",
      "name": "python3"
    }
  },
  "nbformat": 4,
  "nbformat_minor": 0
}